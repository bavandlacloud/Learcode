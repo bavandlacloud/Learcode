{
 "cells": [
  {
   "cell_type": "code",
   "execution_count": 1,
   "metadata": {},
   "outputs": [
    {
     "name": "stdout",
     "output_type": "stream",
     "text": [
      "Ravi\n"
     ]
    }
   ],
   "source": [
    "print (\"Ravi\")"
   ]
  },
  {
   "cell_type": "code",
   "execution_count": 3,
   "metadata": {},
   "outputs": [
    {
     "name": "stdout",
     "output_type": "stream",
     "text": [
      "Hello Ravi\n"
     ]
    }
   ],
   "source": [
    "def _sample_(name):\n",
    "    print(\"Hello \" +name)\n",
    "\n",
    "\n",
    "_sample_(\"Ravi\")"
   ]
  },
  {
   "cell_type": "code",
   "execution_count": 5,
   "metadata": {},
   "outputs": [
    {
     "name": "stdout",
     "output_type": "stream",
     "text": [
      "numbers provided 10,12\n",
      "22\n"
     ]
    }
   ],
   "source": [
    "def add_fun(num1, num2):\n",
    "    print(f'numbers provided {num1},{num2}')\n",
    "    return num1+num2\n",
    "\n",
    "result = add_fun(10,12)\n",
    "print(result)"
   ]
  },
  {
   "cell_type": "code",
   "execution_count": 12,
   "metadata": {},
   "outputs": [
    {
     "data": {
      "text/plain": "[2, 4, 6, 8]"
     },
     "execution_count": 12,
     "metadata": {},
     "output_type": "execute_result"
    }
   ],
   "source": [
    "def check_even_list(num_list):\n",
    "    even_numbers=[]\n",
    "    for x in num_list:\n",
    "        if x%2==0:\n",
    "            even_numbers.append(x)\n",
    "        else:\n",
    "            pass\n",
    "\n",
    "    return even_numbers\n",
    "check_even_list([1,2,3,4,5,6,7,8,9])\n",
    "\n"
   ]
  },
  {
   "cell_type": "code",
   "execution_count": 14,
   "metadata": {},
   "outputs": [
    {
     "name": "stdout",
     "output_type": "stream",
     "text": [
      "[3, 4, 8, 7, 2, 9, 6, 5, 1]\n"
     ]
    }
   ],
   "source": [
    "# three cup\n",
    "example=[1,2,3,4,5,6,7,8,9]\n",
    "\n",
    "from random import shuffle\n",
    "\n",
    "result = shuffle(example)\n",
    "\n",
    "print(example)\n",
    "\n"
   ]
  },
  {
   "cell_type": "code",
   "execution_count": null,
   "metadata": {},
   "outputs": [],
   "source": [
    "#tree cups game\n",
    "\n",
    "mylist=[' ','O',' ']\n",
    "\n",
    "def myshuffle(listofnum):\n",
    "    from random import shuffle\n",
    "    shuffle(listofnum)\n",
    "    return listofnum\n",
    "\n",
    "def takeinput():\n",
    "    guess=''\n",
    "    while guess not in ['0','1','2']:\n",
    "        print(\"asking\")\n",
    "        guess = input(\"pick a number 0,1 or 2\")\n",
    "    return int(guess)\n"
   ]
  }
 ],
 "metadata": {
  "kernelspec": {
   "display_name": "Python 3.8.10 64-bit",
   "metadata": {
    "interpreter": {
     "hash": "31f2aee4e71d21fbe5cf8b01ff0e069b9275f58929596ceb00d14d90e3e16cd6"
    }
   },
   "name": "python3"
  },
  "language_info": {
   "codemirror_mode": {
    "name": "ipython",
    "version": 3
   },
   "file_extension": ".py",
   "mimetype": "text/x-python",
   "name": "python",
   "nbconvert_exporter": "python",
   "pygments_lexer": "ipython3",
   "version": "3.8.10"
  },
  "orig_nbformat": 2
 },
 "nbformat": 4,
 "nbformat_minor": 2
}